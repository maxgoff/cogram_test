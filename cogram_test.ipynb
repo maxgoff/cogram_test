{
 "cells": [
  {
   "cell_type": "code",
   "execution_count": null,
   "id": "36b93750",
   "metadata": {},
   "outputs": [],
   "source": [
    "# Print a fibonacci series using recursion.\n",
    "\n",
    "def fibonacci(n):\n",
    "    if n == 0:\n",
    "        return 0\n",
    "    elif n == 1:\n",
    "        return 1\n",
    "    else:\n",
    "        return fibonacci(n-1) + fibonacci(n-2)\n",
    "\n",
    "n = int(input(\"Enter the number of terms: \"))\n",
    "\n",
    "for i in range(n):\n",
    "    print(fibonacci(i))\n"
   ]
  },
  {
   "cell_type": "code",
   "execution_count": null,
   "id": "333c2f90",
   "metadata": {},
   "outputs": [],
   "source": [
    "# Function to parse a string, eliminate all non-pritable ASCII charaters and return the string in lower case.\n",
    "\n",
    "def parse(string):\n",
    "    new_string = \"\"\n",
    "    for i in string:\n",
    "        if i.isprintable():\n",
    "            new_string += i.lower()\n",
    "    return new_string\n",
    "\n",
    "string = input(\"Enter a string: \")\n",
    "print(parse(string))\n"
   ]
  },
  {
   "cell_type": "code",
   "execution_count": null,
   "id": "a194b24e",
   "metadata": {},
   "outputs": [],
   "source": [
    "# Function to convert a list to a tuple\n",
    "\n",
    "def convert(list):\n",
    "    return tuple(list)\n",
    "\n",
    "list = [1, 2, 3, 4]\n",
    "print(convert(list))"
   ]
  },
  {
   "cell_type": "code",
   "execution_count": null,
   "id": "0f01da7c",
   "metadata": {},
   "outputs": [],
   "source": [
    "# Function to convert a tuple into a list\n",
    "\n",
    "def convert(tuple):\n",
    "    return list(tuple)\n",
    "\n",
    "tuple = (1,2,3,4,5)\n",
    "print(convert(tuple))\n"
   ]
  },
  {
   "cell_type": "code",
   "execution_count": null,
   "id": "db60ed42",
   "metadata": {},
   "outputs": [],
   "source": [
    "# Function to accept two strings with identical letters, but the characters will be \\\n",
    "# in different order in the strings and the second string will have one extra character.  \\\n",
    "# Return the extra character.\n",
    "\n",
    "def find_extra(str1, str2):\n",
    "    for i in str1:\n",
    "        if i not in str2:\n",
    "            return i\n",
    "    for i in str2:\n",
    "        if i not in str1:\n",
    "            return i\n",
    "\n",
    "str1 = \"abcd\"\n",
    "str2 = \"abdce\"\n",
    "print(find_extra(str1, str2))\n"
   ]
  },
  {
   "cell_type": "code",
   "execution_count": null,
   "id": "5268c68d",
   "metadata": {},
   "outputs": [],
   "source": [
    "# Make a chain of coding decorators.\n",
    "\n",
    "def make_pretty(func):\n",
    "    def inner():\n",
    "        print(\"I got decorated\")\n",
    "        func()\n",
    "    return inner\n",
    "\n",
    "def ordinary():\n",
    "    print(\"I am ordinary\")\n",
    "\n",
    "ordinary()\n",
    "\n",
    "pretty = make_pretty(ordinary)\n",
    "pretty()\n"
   ]
  }
 ],
 "metadata": {
  "kernelspec": {
   "display_name": "Python 3 (ipykernel)",
   "language": "python",
   "name": "python3"
  },
  "language_info": {
   "codemirror_mode": {
    "name": "ipython",
    "version": 3
   },
   "file_extension": ".py",
   "mimetype": "text/x-python",
   "name": "python",
   "nbconvert_exporter": "python",
   "pygments_lexer": "ipython3",
   "version": "3.9.7"
  }
 },
 "nbformat": 4,
 "nbformat_minor": 5
}
